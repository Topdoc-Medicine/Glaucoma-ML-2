{
 "cells": [
  {
   "cell_type": "code",
   "execution_count": 2,
   "metadata": {},
   "outputs": [],
   "source": [
    "import tensorflow as tf\n",
    "import keras\n",
    "from keras.models import load_model\n",
    "import matplotlib.pyplot as plt\n",
    "import cv2\n",
    "import numpy as np\n",
    "import os\n",
    "import pandas\n",
    "import h5py\n",
    "import glob"
   ]
  },
  {
   "cell_type": "code",
   "execution_count": 4,
   "metadata": {},
   "outputs": [],
   "source": [
    "h5file =  \"GlaucomaModel.h5\"\n",
    "\n",
    "with h5py.File(h5file,'r') as fid:\n",
    "     model = tf.keras.models.load_model(fid)"
   ]
  },
  {
   "cell_type": "code",
   "execution_count": 5,
   "metadata": {},
   "outputs": [],
   "source": [
    "def get_filenames():\n",
    "    global path\n",
    "    path = r\"test\"\n",
    "    return os.listdir(path)"
   ]
  },
  {
   "cell_type": "code",
   "execution_count": 6,
   "metadata": {},
   "outputs": [],
   "source": [
    "def autoroi(img):\n",
    "\n",
    "    gray_img = cv2.cvtColor(img, cv2.COLOR_BGR2GRAY)\n",
    "\n",
    "    thresh = cv2.threshold(gray_img, 130, 255, cv2.THRESH_BINARY)[1]\n",
    "    thresh = cv2.dilate(thresh, None, iterations=5)\n",
    "\n",
    "    contours, hierarchy = cv2.findContours(\n",
    "        thresh.copy(), cv2.RETR_EXTERNAL, cv2.CHAIN_APPROX_SIMPLE)\n",
    "\n",
    "    biggest = max(contours, key=cv2.contourArea)\n",
    "    x, y, w, h = cv2.boundingRect(biggest)\n",
    "    cv2.rectangle(img, (x, y), (x+w, y+h), (0, 256, 0), 2)\n",
    "    roi = img[y:y+h, x:x+w]\n",
    "\n",
    "    return roi"
   ]
  },
  {
   "cell_type": "code",
   "execution_count": 7,
   "metadata": {},
   "outputs": [],
   "source": [
    "def prediction():\n",
    "    list_of_files = glob.glob('data/train/glaucoma/*.png') #testing different files\n",
    "#     latest_file = max(list_of_files, key=os.path.getctime)\n",
    "    for latest_file in list_of_files:\n",
    "        \n",
    "        img = cv2.imread(latest_file)\n",
    "        img = autoroi(img)\n",
    "        img = cv2.resize(img, (256, 256))\n",
    "        img = np.reshape(img, [1, 256, 256, 3])\n",
    "    #     img = tf.cast(img, tf.float64)\n",
    "\n",
    "\n",
    "        prediction = model.predict(img)\n",
    "        print(prediction)\n",
    "        prediction = prediction.argmax()\n",
    "        print(prediction)\n",
    "\n",
    "\n",
    "    return(prediction)"
   ]
  },
  {
   "cell_type": "code",
   "execution_count": null,
   "metadata": {},
   "outputs": [],
   "source": [
    "finalPrediction = prediction()"
   ]
  }
 ],
 "metadata": {
  "kernelspec": {
   "display_name": "Python 3",
   "language": "python",
   "name": "python3"
  },
  "language_info": {
   "codemirror_mode": {
    "name": "ipython",
    "version": 3
   },
   "file_extension": ".py",
   "mimetype": "text/x-python",
   "name": "python",
   "nbconvert_exporter": "python",
   "pygments_lexer": "ipython3",
   "version": "3.7.6"
  }
 },
 "nbformat": 4,
 "nbformat_minor": 4
}
