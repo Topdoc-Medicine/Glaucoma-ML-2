{
 "cells": [
  {
   "cell_type": "code",
   "execution_count": 9,
   "metadata": {},
   "outputs": [],
   "source": [
    "import tensorflow as tf\n",
    "import keras\n",
    "from keras.models import load_model\n",
    "import matplotlib.pyplot as plt\n",
    "import cv2\n",
    "import numpy as np\n",
    "import os\n",
    "import pandas\n",
    "import h5py\n",
    "import glob"
   ]
  },
  {
   "cell_type": "code",
   "execution_count": 92,
   "metadata": {},
   "outputs": [
    {
     "name": "stdout",
     "output_type": "stream",
     "text": [
      "WARNING:tensorflow:Error in loading the saved optimizer state. As a result, your model is starting with a freshly initialized optimizer.\n"
     ]
    }
   ],
   "source": [
    "h5file =  \"VGG19_weights.h5\"\n",
    "\n",
    "with h5py.File(h5file,'r') as fid:\n",
    "     model = tf.keras.models.load_model(fid)"
   ]
  },
  {
   "cell_type": "code",
   "execution_count": 11,
   "metadata": {},
   "outputs": [],
   "source": [
    "def get_filenames():\n",
    "    global path\n",
    "    path = r\"test\"\n",
    "    return os.listdir(path)"
   ]
  },
  {
   "cell_type": "code",
   "execution_count": 12,
   "metadata": {},
   "outputs": [],
   "source": [
    "def autoroi(img):\n",
    "\n",
    "    gray_img = cv2.cvtColor(img, cv2.COLOR_BGR2GRAY)\n",
    "\n",
    "    thresh = cv2.threshold(gray_img, 130, 255, cv2.THRESH_BINARY)[1]\n",
    "    thresh = cv2.dilate(thresh, None, iterations=5)\n",
    "\n",
    "    contours, hierarchy = cv2.findContours(\n",
    "        thresh.copy(), cv2.RETR_EXTERNAL, cv2.CHAIN_APPROX_SIMPLE)\n",
    "\n",
    "    biggest = max(contours, key=cv2.contourArea)\n",
    "    x, y, w, h = cv2.boundingRect(biggest)\n",
    "    cv2.rectangle(img, (x, y), (x+w, y+h), (0, 256, 0), 2)\n",
    "    roi = img[y:y+h, x:x+w]\n",
    "\n",
    "    return roi"
   ]
  },
  {
   "cell_type": "code",
   "execution_count": 97,
   "metadata": {},
   "outputs": [],
   "source": [
    "def prediction():\n",
    "    list_of_files = glob.glob('Images/*') #testing different files\n",
    "#     latest_file = max(list_of_files, key=os.path.getctime)\n",
    "    total = len(list_of_files)\n",
    "    print(total)\n",
    "    count = 0\n",
    "    for latest_file in list_of_files:\n",
    "        \n",
    "        img = cv2.imread(latest_file)\n",
    "        img = autoroi(img)\n",
    "        img = cv2.resize(img, (224, 224))\n",
    "        img = np.reshape(img, [1, 224, 224, 3])\n",
    "    #     img = tf.cast(img, tf.float64)\n",
    "\n",
    "\n",
    "        prediction = model.predict(img)\n",
    "        print(prediction)\n",
    "        prediction = prediction.argmax()\n",
    "        print(prediction)\n",
    "        if prediction == 1:\n",
    "            count += 1\n",
    "\n",
    "    print(count)\n",
    "    return(prediction)"
   ]
  },
  {
   "cell_type": "code",
   "execution_count": 98,
   "metadata": {},
   "outputs": [
    {
     "name": "stdout",
     "output_type": "stream",
     "text": [
      "705\n",
      "[[1. 0.]]\n",
      "0\n",
      "[[5.385852e-25 1.000000e+00]]\n",
      "1\n",
      "[[3.7016865e-22 1.0000000e+00]]\n",
      "1\n",
      "[[0. 1.]]\n",
      "1\n",
      "[[0. 1.]]\n",
      "1\n",
      "[[0. 1.]]\n",
      "1\n",
      "[[1. 0.]]\n",
      "0\n",
      "[[0. 1.]]\n",
      "1\n",
      "[[0. 1.]]\n",
      "1\n",
      "[[0. 1.]]\n",
      "1\n",
      "[[0. 1.]]\n",
      "1\n",
      "[[3.6900825e-30 1.0000000e+00]]\n",
      "1\n",
      "[[0. 1.]]\n",
      "1\n",
      "[[0. 1.]]\n",
      "1\n",
      "[[0. 1.]]\n",
      "1\n",
      "[[8.555869e-31 1.000000e+00]]\n",
      "1\n",
      "[[0. 1.]]\n",
      "1\n",
      "[[3.9822648e-16 1.0000000e+00]]\n",
      "1\n",
      "[[1.000000e+00 1.409736e-12]]\n",
      "0\n",
      "[[0. 1.]]\n",
      "1\n",
      "[[0. 1.]]\n",
      "1\n",
      "[[0. 1.]]\n",
      "1\n",
      "[[0. 1.]]\n",
      "1\n",
      "[[0. 1.]]\n",
      "1\n",
      "[[0. 1.]]\n",
      "1\n",
      "[[1. 0.]]\n",
      "0\n",
      "[[0. 1.]]\n",
      "1\n",
      "[[0. 1.]]\n",
      "1\n",
      "[[0. 1.]]\n",
      "1\n",
      "[[0. 1.]]\n",
      "1\n",
      "[[1.3595905e-35 1.0000000e+00]]\n",
      "1\n",
      "[[0. 1.]]\n",
      "1\n",
      "[[0. 1.]]\n",
      "1\n",
      "[[0. 1.]]\n",
      "1\n",
      "[[0. 1.]]\n",
      "1\n",
      "[[0. 1.]]\n",
      "1\n",
      "[[0. 1.]]\n",
      "1\n",
      "[[1.000000e+00 7.877675e-24]]\n",
      "0\n",
      "[[1.0000000e+00 9.3098976e-32]]\n",
      "0\n",
      "[[0. 1.]]\n",
      "1\n",
      "[[1. 0.]]\n",
      "0\n",
      "[[0. 1.]]\n",
      "1\n",
      "[[0. 1.]]\n",
      "1\n",
      "[[9.9999917e-01 8.5378048e-07]]\n",
      "0\n"
     ]
    },
    {
     "ename": "ValueError",
     "evalue": "max() arg is an empty sequence",
     "output_type": "error",
     "traceback": [
      "\u001b[0;31m---------------------------------------------------------------------------\u001b[0m",
      "\u001b[0;31mValueError\u001b[0m                                Traceback (most recent call last)",
      "\u001b[0;32m<ipython-input-98-674c74413388>\u001b[0m in \u001b[0;36m<module>\u001b[0;34m\u001b[0m\n\u001b[0;32m----> 1\u001b[0;31m \u001b[0mfinalPrediction\u001b[0m \u001b[0;34m=\u001b[0m \u001b[0mprediction\u001b[0m\u001b[0;34m(\u001b[0m\u001b[0;34m)\u001b[0m\u001b[0;34m\u001b[0m\u001b[0;34m\u001b[0m\u001b[0m\n\u001b[0m",
      "\u001b[0;32m<ipython-input-97-8f794affa6c4>\u001b[0m in \u001b[0;36mprediction\u001b[0;34m()\u001b[0m\n\u001b[1;32m      8\u001b[0m \u001b[0;34m\u001b[0m\u001b[0m\n\u001b[1;32m      9\u001b[0m         \u001b[0mimg\u001b[0m \u001b[0;34m=\u001b[0m \u001b[0mcv2\u001b[0m\u001b[0;34m.\u001b[0m\u001b[0mimread\u001b[0m\u001b[0;34m(\u001b[0m\u001b[0mlatest_file\u001b[0m\u001b[0;34m)\u001b[0m\u001b[0;34m\u001b[0m\u001b[0;34m\u001b[0m\u001b[0m\n\u001b[0;32m---> 10\u001b[0;31m         \u001b[0mimg\u001b[0m \u001b[0;34m=\u001b[0m \u001b[0mautoroi\u001b[0m\u001b[0;34m(\u001b[0m\u001b[0mimg\u001b[0m\u001b[0;34m)\u001b[0m\u001b[0;34m\u001b[0m\u001b[0;34m\u001b[0m\u001b[0m\n\u001b[0m\u001b[1;32m     11\u001b[0m         \u001b[0mimg\u001b[0m \u001b[0;34m=\u001b[0m \u001b[0mcv2\u001b[0m\u001b[0;34m.\u001b[0m\u001b[0mresize\u001b[0m\u001b[0;34m(\u001b[0m\u001b[0mimg\u001b[0m\u001b[0;34m,\u001b[0m \u001b[0;34m(\u001b[0m\u001b[0;36m224\u001b[0m\u001b[0;34m,\u001b[0m \u001b[0;36m224\u001b[0m\u001b[0;34m)\u001b[0m\u001b[0;34m)\u001b[0m\u001b[0;34m\u001b[0m\u001b[0;34m\u001b[0m\u001b[0m\n\u001b[1;32m     12\u001b[0m         \u001b[0mimg\u001b[0m \u001b[0;34m=\u001b[0m \u001b[0mnp\u001b[0m\u001b[0;34m.\u001b[0m\u001b[0mreshape\u001b[0m\u001b[0;34m(\u001b[0m\u001b[0mimg\u001b[0m\u001b[0;34m,\u001b[0m \u001b[0;34m[\u001b[0m\u001b[0;36m1\u001b[0m\u001b[0;34m,\u001b[0m \u001b[0;36m224\u001b[0m\u001b[0;34m,\u001b[0m \u001b[0;36m224\u001b[0m\u001b[0;34m,\u001b[0m \u001b[0;36m3\u001b[0m\u001b[0;34m]\u001b[0m\u001b[0;34m)\u001b[0m\u001b[0;34m\u001b[0m\u001b[0;34m\u001b[0m\u001b[0m\n",
      "\u001b[0;32m<ipython-input-12-d1e7edc2494d>\u001b[0m in \u001b[0;36mautoroi\u001b[0;34m(img)\u001b[0m\n\u001b[1;32m      9\u001b[0m         thresh.copy(), cv2.RETR_EXTERNAL, cv2.CHAIN_APPROX_SIMPLE)\n\u001b[1;32m     10\u001b[0m \u001b[0;34m\u001b[0m\u001b[0m\n\u001b[0;32m---> 11\u001b[0;31m     \u001b[0mbiggest\u001b[0m \u001b[0;34m=\u001b[0m \u001b[0mmax\u001b[0m\u001b[0;34m(\u001b[0m\u001b[0mcontours\u001b[0m\u001b[0;34m,\u001b[0m \u001b[0mkey\u001b[0m\u001b[0;34m=\u001b[0m\u001b[0mcv2\u001b[0m\u001b[0;34m.\u001b[0m\u001b[0mcontourArea\u001b[0m\u001b[0;34m)\u001b[0m\u001b[0;34m\u001b[0m\u001b[0;34m\u001b[0m\u001b[0m\n\u001b[0m\u001b[1;32m     12\u001b[0m     \u001b[0mx\u001b[0m\u001b[0;34m,\u001b[0m \u001b[0my\u001b[0m\u001b[0;34m,\u001b[0m \u001b[0mw\u001b[0m\u001b[0;34m,\u001b[0m \u001b[0mh\u001b[0m \u001b[0;34m=\u001b[0m \u001b[0mcv2\u001b[0m\u001b[0;34m.\u001b[0m\u001b[0mboundingRect\u001b[0m\u001b[0;34m(\u001b[0m\u001b[0mbiggest\u001b[0m\u001b[0;34m)\u001b[0m\u001b[0;34m\u001b[0m\u001b[0;34m\u001b[0m\u001b[0m\n\u001b[1;32m     13\u001b[0m     \u001b[0mcv2\u001b[0m\u001b[0;34m.\u001b[0m\u001b[0mrectangle\u001b[0m\u001b[0;34m(\u001b[0m\u001b[0mimg\u001b[0m\u001b[0;34m,\u001b[0m \u001b[0;34m(\u001b[0m\u001b[0mx\u001b[0m\u001b[0;34m,\u001b[0m \u001b[0my\u001b[0m\u001b[0;34m)\u001b[0m\u001b[0;34m,\u001b[0m \u001b[0;34m(\u001b[0m\u001b[0mx\u001b[0m\u001b[0;34m+\u001b[0m\u001b[0mw\u001b[0m\u001b[0;34m,\u001b[0m \u001b[0my\u001b[0m\u001b[0;34m+\u001b[0m\u001b[0mh\u001b[0m\u001b[0;34m)\u001b[0m\u001b[0;34m,\u001b[0m \u001b[0;34m(\u001b[0m\u001b[0;36m0\u001b[0m\u001b[0;34m,\u001b[0m \u001b[0;36m256\u001b[0m\u001b[0;34m,\u001b[0m \u001b[0;36m0\u001b[0m\u001b[0;34m)\u001b[0m\u001b[0;34m,\u001b[0m \u001b[0;36m2\u001b[0m\u001b[0;34m)\u001b[0m\u001b[0;34m\u001b[0m\u001b[0;34m\u001b[0m\u001b[0m\n",
      "\u001b[0;31mValueError\u001b[0m: max() arg is an empty sequence"
     ]
    }
   ],
   "source": [
    "finalPrediction = prediction()"
   ]
  },
  {
   "cell_type": "code",
   "execution_count": null,
   "metadata": {},
   "outputs": [],
   "source": []
  }
 ],
 "metadata": {
  "kernelspec": {
   "display_name": "Python 3",
   "language": "python",
   "name": "python3"
  },
  "language_info": {
   "codemirror_mode": {
    "name": "ipython",
    "version": 3
   },
   "file_extension": ".py",
   "mimetype": "text/x-python",
   "name": "python",
   "nbconvert_exporter": "python",
   "pygments_lexer": "ipython3",
   "version": "3.7.6"
  }
 },
 "nbformat": 4,
 "nbformat_minor": 4
}
